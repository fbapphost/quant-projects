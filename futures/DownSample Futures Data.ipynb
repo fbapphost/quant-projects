{
 "cells": [
  {
   "cell_type": "code",
   "execution_count": 25,
   "metadata": {},
   "outputs": [],
   "source": [
    "import pandas as pd\n",
    "import numpy as np"
   ]
  },
  {
   "cell_type": "code",
   "execution_count": 114,
   "metadata": {},
   "outputs": [],
   "source": [
    "file_path = '../data/futures/'"
   ]
  },
  {
   "cell_type": "code",
   "execution_count": 115,
   "metadata": {},
   "outputs": [],
   "source": [
    "df = pd.read_csv(file_path + 'NQ.csv')"
   ]
  },
  {
   "cell_type": "code",
   "execution_count": 121,
   "metadata": {},
   "outputs": [
    {
     "data": {
      "text/html": [
       "<div>\n",
       "<style scoped>\n",
       "    .dataframe tbody tr th:only-of-type {\n",
       "        vertical-align: middle;\n",
       "    }\n",
       "\n",
       "    .dataframe tbody tr th {\n",
       "        vertical-align: top;\n",
       "    }\n",
       "\n",
       "    .dataframe thead th {\n",
       "        text-align: right;\n",
       "    }\n",
       "</style>\n",
       "<table border=\"1\" class=\"dataframe\">\n",
       "  <thead>\n",
       "    <tr style=\"text-align: right;\">\n",
       "      <th></th>\n",
       "      <th>Date</th>\n",
       "      <th>Time</th>\n",
       "      <th>Open</th>\n",
       "      <th>High</th>\n",
       "      <th>Low</th>\n",
       "      <th>Close</th>\n",
       "      <th>Volume</th>\n",
       "      <th>Datetime</th>\n",
       "    </tr>\n",
       "    <tr>\n",
       "      <th>DateTime</th>\n",
       "      <th></th>\n",
       "      <th></th>\n",
       "      <th></th>\n",
       "      <th></th>\n",
       "      <th></th>\n",
       "      <th></th>\n",
       "      <th></th>\n",
       "      <th></th>\n",
       "    </tr>\n",
       "  </thead>\n",
       "  <tbody>\n",
       "    <tr>\n",
       "      <th>2009-09-27 18:00:00</th>\n",
       "      <td>9/27/2009</td>\n",
       "      <td>18:00</td>\n",
       "      <td>1697.00</td>\n",
       "      <td>1701.00</td>\n",
       "      <td>1696.00</td>\n",
       "      <td>1699.50</td>\n",
       "      <td>621</td>\n",
       "      <td>2009-09-27 18:00:00</td>\n",
       "    </tr>\n",
       "    <tr>\n",
       "      <th>2009-09-27 18:30:00</th>\n",
       "      <td>9/27/2009</td>\n",
       "      <td>18:30</td>\n",
       "      <td>1699.75</td>\n",
       "      <td>1700.00</td>\n",
       "      <td>1699.25</td>\n",
       "      <td>1699.50</td>\n",
       "      <td>26</td>\n",
       "      <td>2009-09-27 18:30:00</td>\n",
       "    </tr>\n",
       "    <tr>\n",
       "      <th>2009-09-27 19:00:00</th>\n",
       "      <td>9/27/2009</td>\n",
       "      <td>19:00</td>\n",
       "      <td>1699.50</td>\n",
       "      <td>1699.75</td>\n",
       "      <td>1694.00</td>\n",
       "      <td>1694.00</td>\n",
       "      <td>677</td>\n",
       "      <td>2009-09-27 19:00:00</td>\n",
       "    </tr>\n",
       "    <tr>\n",
       "      <th>2009-09-27 19:30:00</th>\n",
       "      <td>9/27/2009</td>\n",
       "      <td>19:30</td>\n",
       "      <td>1694.00</td>\n",
       "      <td>1694.25</td>\n",
       "      <td>1692.00</td>\n",
       "      <td>1692.75</td>\n",
       "      <td>221</td>\n",
       "      <td>2009-09-27 19:30:00</td>\n",
       "    </tr>\n",
       "    <tr>\n",
       "      <th>2009-09-27 20:00:00</th>\n",
       "      <td>9/27/2009</td>\n",
       "      <td>20:00</td>\n",
       "      <td>1692.50</td>\n",
       "      <td>1694.75</td>\n",
       "      <td>1689.50</td>\n",
       "      <td>1692.50</td>\n",
       "      <td>767</td>\n",
       "      <td>2009-09-27 20:00:00</td>\n",
       "    </tr>\n",
       "  </tbody>\n",
       "</table>\n",
       "</div>"
      ],
      "text/plain": [
       "                          Date   Time     Open     High      Low    Close  \\\n",
       "DateTime                                                                    \n",
       "2009-09-27 18:00:00  9/27/2009  18:00  1697.00  1701.00  1696.00  1699.50   \n",
       "2009-09-27 18:30:00  9/27/2009  18:30  1699.75  1700.00  1699.25  1699.50   \n",
       "2009-09-27 19:00:00  9/27/2009  19:00  1699.50  1699.75  1694.00  1694.00   \n",
       "2009-09-27 19:30:00  9/27/2009  19:30  1694.00  1694.25  1692.00  1692.75   \n",
       "2009-09-27 20:00:00  9/27/2009  20:00  1692.50  1694.75  1689.50  1692.50   \n",
       "\n",
       "                     Volume            Datetime  \n",
       "DateTime                                         \n",
       "2009-09-27 18:00:00     621 2009-09-27 18:00:00  \n",
       "2009-09-27 18:30:00      26 2009-09-27 18:30:00  \n",
       "2009-09-27 19:00:00     677 2009-09-27 19:00:00  \n",
       "2009-09-27 19:30:00     221 2009-09-27 19:30:00  \n",
       "2009-09-27 20:00:00     767 2009-09-27 20:00:00  "
      ]
     },
     "execution_count": 121,
     "metadata": {},
     "output_type": "execute_result"
    }
   ],
   "source": [
    "df.head()"
   ]
  },
  {
   "cell_type": "code",
   "execution_count": 117,
   "metadata": {},
   "outputs": [],
   "source": [
    "df['DateTime'] = pd.to_datetime(df['Date'] + ' ' + df['Time'])"
   ]
  },
  {
   "cell_type": "code",
   "execution_count": 118,
   "metadata": {},
   "outputs": [],
   "source": [
    "df['Datetime'] = pd.to_datetime(df['DateTime'], format='%Y-%m-%d %H:%M:%S')"
   ]
  },
  {
   "cell_type": "code",
   "execution_count": 122,
   "metadata": {},
   "outputs": [
    {
     "ename": "KeyError",
     "evalue": "\"None of ['DateTime'] are in the columns\"",
     "output_type": "error",
     "traceback": [
      "\u001b[1;31m---------------------------------------------------------------------------\u001b[0m",
      "\u001b[1;31mKeyError\u001b[0m                                  Traceback (most recent call last)",
      "\u001b[1;32m<ipython-input-122-87f6281566a9>\u001b[0m in \u001b[0;36m<module>\u001b[1;34m\u001b[0m\n\u001b[1;32m----> 1\u001b[1;33m \u001b[0mdf\u001b[0m \u001b[1;33m=\u001b[0m \u001b[0mdf\u001b[0m\u001b[1;33m.\u001b[0m\u001b[0mset_index\u001b[0m\u001b[1;33m(\u001b[0m\u001b[1;34m'DateTime'\u001b[0m\u001b[1;33m)\u001b[0m\u001b[1;33m\u001b[0m\u001b[1;33m\u001b[0m\u001b[0m\n\u001b[0m",
      "\u001b[1;32m~\\.conda\\envs\\quant-projects\\lib\\site-packages\\pandas\\core\\frame.py\u001b[0m in \u001b[0;36mset_index\u001b[1;34m(self, keys, drop, append, inplace, verify_integrity)\u001b[0m\n\u001b[0;32m   4301\u001b[0m \u001b[1;33m\u001b[0m\u001b[0m\n\u001b[0;32m   4302\u001b[0m         \u001b[1;32mif\u001b[0m \u001b[0mmissing\u001b[0m\u001b[1;33m:\u001b[0m\u001b[1;33m\u001b[0m\u001b[1;33m\u001b[0m\u001b[0m\n\u001b[1;32m-> 4303\u001b[1;33m             \u001b[1;32mraise\u001b[0m \u001b[0mKeyError\u001b[0m\u001b[1;33m(\u001b[0m\u001b[1;34mf\"None of {missing} are in the columns\"\u001b[0m\u001b[1;33m)\u001b[0m\u001b[1;33m\u001b[0m\u001b[1;33m\u001b[0m\u001b[0m\n\u001b[0m\u001b[0;32m   4304\u001b[0m \u001b[1;33m\u001b[0m\u001b[0m\n\u001b[0;32m   4305\u001b[0m         \u001b[1;32mif\u001b[0m \u001b[0minplace\u001b[0m\u001b[1;33m:\u001b[0m\u001b[1;33m\u001b[0m\u001b[1;33m\u001b[0m\u001b[0m\n",
      "\u001b[1;31mKeyError\u001b[0m: \"None of ['DateTime'] are in the columns\""
     ]
    }
   ],
   "source": [
    "df = df.set_index('DateTime')"
   ]
  },
  {
   "cell_type": "code",
   "execution_count": 123,
   "metadata": {},
   "outputs": [],
   "source": [
    "df_r = pd.DataFrame()"
   ]
  },
  {
   "cell_type": "code",
   "execution_count": 124,
   "metadata": {},
   "outputs": [],
   "source": [
    "df_r['Open'] = df['Open'].resample('1h').first()"
   ]
  },
  {
   "cell_type": "code",
   "execution_count": 125,
   "metadata": {},
   "outputs": [],
   "source": [
    "df_r['Close'] = df['Close'].resample('1h').last()"
   ]
  },
  {
   "cell_type": "code",
   "execution_count": 126,
   "metadata": {},
   "outputs": [],
   "source": [
    "df_r['High'] = df['High'].resample('1h').max()"
   ]
  },
  {
   "cell_type": "code",
   "execution_count": 127,
   "metadata": {},
   "outputs": [],
   "source": [
    "df_r['Low'] = df['Low'].resample('1h').min()"
   ]
  },
  {
   "cell_type": "code",
   "execution_count": 128,
   "metadata": {},
   "outputs": [],
   "source": [
    "df_r['Volume'] = df['Volume'].resample('1h').sum()"
   ]
  },
  {
   "cell_type": "code",
   "execution_count": 129,
   "metadata": {},
   "outputs": [],
   "source": [
    "df_r['Adj Close'] = df_r['Close']"
   ]
  },
  {
   "cell_type": "code",
   "execution_count": 130,
   "metadata": {},
   "outputs": [],
   "source": [
    "df_r = df_r.reset_index()"
   ]
  },
  {
   "cell_type": "code",
   "execution_count": 131,
   "metadata": {},
   "outputs": [],
   "source": [
    "df_r = df_r.rename(columns={'DateTime': 'Date Time'})"
   ]
  },
  {
   "cell_type": "code",
   "execution_count": 135,
   "metadata": {},
   "outputs": [],
   "source": [
    "df_r.to_csv(file_path + 'NQ_1h.csv', index=False)"
   ]
  },
  {
   "cell_type": "code",
   "execution_count": 133,
   "metadata": {},
   "outputs": [
    {
     "data": {
      "text/html": [
       "<div>\n",
       "<style scoped>\n",
       "    .dataframe tbody tr th:only-of-type {\n",
       "        vertical-align: middle;\n",
       "    }\n",
       "\n",
       "    .dataframe tbody tr th {\n",
       "        vertical-align: top;\n",
       "    }\n",
       "\n",
       "    .dataframe thead th {\n",
       "        text-align: right;\n",
       "    }\n",
       "</style>\n",
       "<table border=\"1\" class=\"dataframe\">\n",
       "  <thead>\n",
       "    <tr style=\"text-align: right;\">\n",
       "      <th></th>\n",
       "      <th>Date Time</th>\n",
       "      <th>Open</th>\n",
       "      <th>Close</th>\n",
       "      <th>High</th>\n",
       "      <th>Low</th>\n",
       "      <th>Volume</th>\n",
       "      <th>Adj Close</th>\n",
       "    </tr>\n",
       "  </thead>\n",
       "  <tbody>\n",
       "    <tr>\n",
       "      <th>0</th>\n",
       "      <td>2009-09-27 18:00:00</td>\n",
       "      <td>1697.00</td>\n",
       "      <td>1699.50</td>\n",
       "      <td>1701.00</td>\n",
       "      <td>1696.0</td>\n",
       "      <td>647</td>\n",
       "      <td>1699.50</td>\n",
       "    </tr>\n",
       "    <tr>\n",
       "      <th>1</th>\n",
       "      <td>2009-09-27 19:00:00</td>\n",
       "      <td>1699.50</td>\n",
       "      <td>1692.75</td>\n",
       "      <td>1699.75</td>\n",
       "      <td>1692.0</td>\n",
       "      <td>898</td>\n",
       "      <td>1692.75</td>\n",
       "    </tr>\n",
       "    <tr>\n",
       "      <th>2</th>\n",
       "      <td>2009-09-27 20:00:00</td>\n",
       "      <td>1692.50</td>\n",
       "      <td>1691.50</td>\n",
       "      <td>1694.75</td>\n",
       "      <td>1689.5</td>\n",
       "      <td>1401</td>\n",
       "      <td>1691.50</td>\n",
       "    </tr>\n",
       "    <tr>\n",
       "      <th>3</th>\n",
       "      <td>2009-09-27 21:00:00</td>\n",
       "      <td>1691.00</td>\n",
       "      <td>1690.50</td>\n",
       "      <td>1692.50</td>\n",
       "      <td>1688.0</td>\n",
       "      <td>963</td>\n",
       "      <td>1690.50</td>\n",
       "    </tr>\n",
       "    <tr>\n",
       "      <th>4</th>\n",
       "      <td>2009-09-27 22:00:00</td>\n",
       "      <td>1690.25</td>\n",
       "      <td>1692.25</td>\n",
       "      <td>1692.25</td>\n",
       "      <td>1690.0</td>\n",
       "      <td>454</td>\n",
       "      <td>1692.25</td>\n",
       "    </tr>\n",
       "  </tbody>\n",
       "</table>\n",
       "</div>"
      ],
      "text/plain": [
       "            Date Time     Open    Close     High     Low  Volume  Adj Close\n",
       "0 2009-09-27 18:00:00  1697.00  1699.50  1701.00  1696.0     647    1699.50\n",
       "1 2009-09-27 19:00:00  1699.50  1692.75  1699.75  1692.0     898    1692.75\n",
       "2 2009-09-27 20:00:00  1692.50  1691.50  1694.75  1689.5    1401    1691.50\n",
       "3 2009-09-27 21:00:00  1691.00  1690.50  1692.50  1688.0     963    1690.50\n",
       "4 2009-09-27 22:00:00  1690.25  1692.25  1692.25  1690.0     454    1692.25"
      ]
     },
     "execution_count": 133,
     "metadata": {},
     "output_type": "execute_result"
    }
   ],
   "source": [
    "df_r.head()"
   ]
  },
  {
   "cell_type": "code",
   "execution_count": null,
   "metadata": {},
   "outputs": [],
   "source": []
  }
 ],
 "metadata": {
  "kernelspec": {
   "display_name": "quant-projects",
   "language": "python",
   "name": "quant-projects"
  },
  "language_info": {
   "codemirror_mode": {
    "name": "ipython",
    "version": 3
   },
   "file_extension": ".py",
   "mimetype": "text/x-python",
   "name": "python",
   "nbconvert_exporter": "python",
   "pygments_lexer": "ipython3",
   "version": "3.6.10"
  }
 },
 "nbformat": 4,
 "nbformat_minor": 4
}
