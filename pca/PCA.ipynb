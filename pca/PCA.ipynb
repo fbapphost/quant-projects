{
 "cells": [
  {
   "cell_type": "code",
   "execution_count": 70,
   "metadata": {},
   "outputs": [],
   "source": [
    "import pandas as pd\n",
    "import numpy as np\n",
    "from sklearn.decomposition import PCA as pca\n",
    "from sklearn.decomposition import SparsePCA as spca\n",
    "from sklearn.decomposition import DictionaryLearning as dl\n",
    "from sklearn.linear_model import OrthogonalMatchingPursuit as omp\n",
    "from sklearn.decomposition import FastICA as fica\n",
    "\n",
    "import os"
   ]
  },
  {
   "cell_type": "code",
   "execution_count": 7,
   "metadata": {},
   "outputs": [],
   "source": [
    "data_path = 'data'"
   ]
  },
  {
   "cell_type": "code",
   "execution_count": 8,
   "metadata": {},
   "outputs": [],
   "source": [
    "swaps_df = pd.read_csv(os.path.join(os.path.abspath('..'),data_path, 'usd_swap_libor_3m.csv'))"
   ]
  },
  {
   "cell_type": "code",
   "execution_count": 9,
   "metadata": {},
   "outputs": [
    {
     "data": {
      "text/html": [
       "<div>\n",
       "<style scoped>\n",
       "    .dataframe tbody tr th:only-of-type {\n",
       "        vertical-align: middle;\n",
       "    }\n",
       "\n",
       "    .dataframe tbody tr th {\n",
       "        vertical-align: top;\n",
       "    }\n",
       "\n",
       "    .dataframe thead th {\n",
       "        text-align: right;\n",
       "    }\n",
       "</style>\n",
       "<table border=\"1\" class=\"dataframe\">\n",
       "  <thead>\n",
       "    <tr style=\"text-align: right;\">\n",
       "      <th></th>\n",
       "      <th>Date</th>\n",
       "      <th>3m</th>\n",
       "      <th>6m</th>\n",
       "      <th>1y</th>\n",
       "      <th>2y</th>\n",
       "      <th>3y</th>\n",
       "      <th>4y</th>\n",
       "      <th>5y</th>\n",
       "      <th>6y</th>\n",
       "      <th>7y</th>\n",
       "      <th>...</th>\n",
       "      <th>15y</th>\n",
       "      <th>16y</th>\n",
       "      <th>17y</th>\n",
       "      <th>18y</th>\n",
       "      <th>19y</th>\n",
       "      <th>20y</th>\n",
       "      <th>25y</th>\n",
       "      <th>30y</th>\n",
       "      <th>40y</th>\n",
       "      <th>50y</th>\n",
       "    </tr>\n",
       "  </thead>\n",
       "  <tbody>\n",
       "    <tr>\n",
       "      <th>0</th>\n",
       "      <td>04/17/2020</td>\n",
       "      <td>1.12132</td>\n",
       "      <td>0.750845</td>\n",
       "      <td>0.542632</td>\n",
       "      <td>0.415995</td>\n",
       "      <td>0.404818</td>\n",
       "      <td>0.432852</td>\n",
       "      <td>0.480290</td>\n",
       "      <td>0.538711</td>\n",
       "      <td>0.596334</td>\n",
       "      <td>...</td>\n",
       "      <td>0.832237</td>\n",
       "      <td>0.844088</td>\n",
       "      <td>0.855402</td>\n",
       "      <td>0.866058</td>\n",
       "      <td>0.875499</td>\n",
       "      <td>0.883368</td>\n",
       "      <td>0.899930</td>\n",
       "      <td>0.906719</td>\n",
       "      <td>0.869219</td>\n",
       "      <td>0.786719</td>\n",
       "    </tr>\n",
       "    <tr>\n",
       "      <th>1</th>\n",
       "      <td>04/16/2020</td>\n",
       "      <td>1.14786</td>\n",
       "      <td>0.769438</td>\n",
       "      <td>0.553294</td>\n",
       "      <td>0.417850</td>\n",
       "      <td>0.401816</td>\n",
       "      <td>0.424998</td>\n",
       "      <td>0.465812</td>\n",
       "      <td>0.517015</td>\n",
       "      <td>0.567523</td>\n",
       "      <td>...</td>\n",
       "      <td>0.778155</td>\n",
       "      <td>0.789119</td>\n",
       "      <td>0.799571</td>\n",
       "      <td>0.809517</td>\n",
       "      <td>0.818363</td>\n",
       "      <td>0.825697</td>\n",
       "      <td>0.840490</td>\n",
       "      <td>0.846255</td>\n",
       "      <td>0.808755</td>\n",
       "      <td>0.726255</td>\n",
       "    </tr>\n",
       "    <tr>\n",
       "      <th>2</th>\n",
       "      <td>04/15/2020</td>\n",
       "      <td>1.14749</td>\n",
       "      <td>0.753579</td>\n",
       "      <td>0.540678</td>\n",
       "      <td>0.409915</td>\n",
       "      <td>0.396697</td>\n",
       "      <td>0.421523</td>\n",
       "      <td>0.464231</td>\n",
       "      <td>0.521136</td>\n",
       "      <td>0.577026</td>\n",
       "      <td>...</td>\n",
       "      <td>0.817662</td>\n",
       "      <td>0.830707</td>\n",
       "      <td>0.843072</td>\n",
       "      <td>0.854822</td>\n",
       "      <td>0.865210</td>\n",
       "      <td>0.873922</td>\n",
       "      <td>0.894239</td>\n",
       "      <td>0.904266</td>\n",
       "      <td>0.866766</td>\n",
       "      <td>0.784266</td>\n",
       "    </tr>\n",
       "    <tr>\n",
       "      <th>3</th>\n",
       "      <td>04/14/2020</td>\n",
       "      <td>1.18920</td>\n",
       "      <td>0.797929</td>\n",
       "      <td>0.569167</td>\n",
       "      <td>0.436103</td>\n",
       "      <td>0.438777</td>\n",
       "      <td>0.485574</td>\n",
       "      <td>0.548139</td>\n",
       "      <td>0.615538</td>\n",
       "      <td>0.678522</td>\n",
       "      <td>...</td>\n",
       "      <td>0.953020</td>\n",
       "      <td>0.967948</td>\n",
       "      <td>0.981887</td>\n",
       "      <td>0.994876</td>\n",
       "      <td>1.006450</td>\n",
       "      <td>1.016070</td>\n",
       "      <td>1.040560</td>\n",
       "      <td>1.054670</td>\n",
       "      <td>1.017170</td>\n",
       "      <td>0.934674</td>\n",
       "    </tr>\n",
       "    <tr>\n",
       "      <th>4</th>\n",
       "      <td>04/13/2020</td>\n",
       "      <td>1.23242</td>\n",
       "      <td>0.836878</td>\n",
       "      <td>0.599714</td>\n",
       "      <td>0.457200</td>\n",
       "      <td>0.458603</td>\n",
       "      <td>0.505609</td>\n",
       "      <td>0.565400</td>\n",
       "      <td>0.627168</td>\n",
       "      <td>0.684601</td>\n",
       "      <td>...</td>\n",
       "      <td>0.937401</td>\n",
       "      <td>0.951133</td>\n",
       "      <td>0.964234</td>\n",
       "      <td>0.976642</td>\n",
       "      <td>0.987715</td>\n",
       "      <td>0.997055</td>\n",
       "      <td>1.019550</td>\n",
       "      <td>1.032200</td>\n",
       "      <td>0.994699</td>\n",
       "      <td>0.912199</td>\n",
       "    </tr>\n",
       "    <tr>\n",
       "      <th>...</th>\n",
       "      <td>...</td>\n",
       "      <td>...</td>\n",
       "      <td>...</td>\n",
       "      <td>...</td>\n",
       "      <td>...</td>\n",
       "      <td>...</td>\n",
       "      <td>...</td>\n",
       "      <td>...</td>\n",
       "      <td>...</td>\n",
       "      <td>...</td>\n",
       "      <td>...</td>\n",
       "      <td>...</td>\n",
       "      <td>...</td>\n",
       "      <td>...</td>\n",
       "      <td>...</td>\n",
       "      <td>...</td>\n",
       "      <td>...</td>\n",
       "      <td>...</td>\n",
       "      <td>...</td>\n",
       "      <td>...</td>\n",
       "      <td>...</td>\n",
       "    </tr>\n",
       "    <tr>\n",
       "      <th>7631</th>\n",
       "      <td>01/05/1990</td>\n",
       "      <td>8.30204</td>\n",
       "      <td>8.347400</td>\n",
       "      <td>8.250600</td>\n",
       "      <td>8.411990</td>\n",
       "      <td>8.526850</td>\n",
       "      <td>8.599060</td>\n",
       "      <td>8.702640</td>\n",
       "      <td>8.774680</td>\n",
       "      <td>8.816610</td>\n",
       "      <td>...</td>\n",
       "      <td>8.847970</td>\n",
       "      <td>8.848360</td>\n",
       "      <td>8.848700</td>\n",
       "      <td>8.848990</td>\n",
       "      <td>8.849790</td>\n",
       "      <td>8.850010</td>\n",
       "      <td>8.851140</td>\n",
       "      <td>8.851800</td>\n",
       "      <td>8.852570</td>\n",
       "      <td>8.852820</td>\n",
       "    </tr>\n",
       "    <tr>\n",
       "      <th>7632</th>\n",
       "      <td>01/04/1990</td>\n",
       "      <td>8.30394</td>\n",
       "      <td>8.348040</td>\n",
       "      <td>8.252340</td>\n",
       "      <td>8.429010</td>\n",
       "      <td>8.541000</td>\n",
       "      <td>8.611810</td>\n",
       "      <td>8.699000</td>\n",
       "      <td>8.766870</td>\n",
       "      <td>8.810640</td>\n",
       "      <td>...</td>\n",
       "      <td>8.830640</td>\n",
       "      <td>8.830250</td>\n",
       "      <td>8.829890</td>\n",
       "      <td>8.829590</td>\n",
       "      <td>8.829850</td>\n",
       "      <td>8.829590</td>\n",
       "      <td>8.829060</td>\n",
       "      <td>8.828770</td>\n",
       "      <td>8.828590</td>\n",
       "      <td>8.828470</td>\n",
       "    </tr>\n",
       "    <tr>\n",
       "      <th>7633</th>\n",
       "      <td>01/03/1990</td>\n",
       "      <td>8.36304</td>\n",
       "      <td>8.287810</td>\n",
       "      <td>8.196780</td>\n",
       "      <td>8.434840</td>\n",
       "      <td>8.552320</td>\n",
       "      <td>8.631280</td>\n",
       "      <td>8.707390</td>\n",
       "      <td>8.765640</td>\n",
       "      <td>8.804040</td>\n",
       "      <td>...</td>\n",
       "      <td>8.813640</td>\n",
       "      <td>8.812760</td>\n",
       "      <td>8.812000</td>\n",
       "      <td>8.811350</td>\n",
       "      <td>8.811320</td>\n",
       "      <td>8.810800</td>\n",
       "      <td>8.809330</td>\n",
       "      <td>8.808490</td>\n",
       "      <td>8.807780</td>\n",
       "      <td>8.807450</td>\n",
       "    </tr>\n",
       "    <tr>\n",
       "      <th>7634</th>\n",
       "      <td>01/02/1990</td>\n",
       "      <td>8.36303</td>\n",
       "      <td>8.287600</td>\n",
       "      <td>8.193170</td>\n",
       "      <td>8.303130</td>\n",
       "      <td>8.462500</td>\n",
       "      <td>8.576230</td>\n",
       "      <td>8.629220</td>\n",
       "      <td>8.689500</td>\n",
       "      <td>8.740070</td>\n",
       "      <td>...</td>\n",
       "      <td>8.734410</td>\n",
       "      <td>8.732040</td>\n",
       "      <td>8.729980</td>\n",
       "      <td>8.728190</td>\n",
       "      <td>8.727170</td>\n",
       "      <td>8.725780</td>\n",
       "      <td>8.721200</td>\n",
       "      <td>8.718550</td>\n",
       "      <td>8.716060</td>\n",
       "      <td>8.715010</td>\n",
       "    </tr>\n",
       "    <tr>\n",
       "      <th>7635</th>\n",
       "      <td>The information and data above is confidential...</td>\n",
       "      <td>NaN</td>\n",
       "      <td>NaN</td>\n",
       "      <td>NaN</td>\n",
       "      <td>NaN</td>\n",
       "      <td>NaN</td>\n",
       "      <td>NaN</td>\n",
       "      <td>NaN</td>\n",
       "      <td>NaN</td>\n",
       "      <td>NaN</td>\n",
       "      <td>...</td>\n",
       "      <td>NaN</td>\n",
       "      <td>NaN</td>\n",
       "      <td>NaN</td>\n",
       "      <td>NaN</td>\n",
       "      <td>NaN</td>\n",
       "      <td>NaN</td>\n",
       "      <td>NaN</td>\n",
       "      <td>NaN</td>\n",
       "      <td>NaN</td>\n",
       "      <td>NaN</td>\n",
       "    </tr>\n",
       "  </tbody>\n",
       "</table>\n",
       "<p>7636 rows × 27 columns</p>\n",
       "</div>"
      ],
      "text/plain": [
       "                                                   Date       3m        6m  \\\n",
       "0                                            04/17/2020  1.12132  0.750845   \n",
       "1                                            04/16/2020  1.14786  0.769438   \n",
       "2                                            04/15/2020  1.14749  0.753579   \n",
       "3                                            04/14/2020  1.18920  0.797929   \n",
       "4                                            04/13/2020  1.23242  0.836878   \n",
       "...                                                 ...      ...       ...   \n",
       "7631                                         01/05/1990  8.30204  8.347400   \n",
       "7632                                         01/04/1990  8.30394  8.348040   \n",
       "7633                                         01/03/1990  8.36304  8.287810   \n",
       "7634                                         01/02/1990  8.36303  8.287600   \n",
       "7635  The information and data above is confidential...      NaN       NaN   \n",
       "\n",
       "            1y        2y        3y        4y        5y        6y        7y  \\\n",
       "0     0.542632  0.415995  0.404818  0.432852  0.480290  0.538711  0.596334   \n",
       "1     0.553294  0.417850  0.401816  0.424998  0.465812  0.517015  0.567523   \n",
       "2     0.540678  0.409915  0.396697  0.421523  0.464231  0.521136  0.577026   \n",
       "3     0.569167  0.436103  0.438777  0.485574  0.548139  0.615538  0.678522   \n",
       "4     0.599714  0.457200  0.458603  0.505609  0.565400  0.627168  0.684601   \n",
       "...        ...       ...       ...       ...       ...       ...       ...   \n",
       "7631  8.250600  8.411990  8.526850  8.599060  8.702640  8.774680  8.816610   \n",
       "7632  8.252340  8.429010  8.541000  8.611810  8.699000  8.766870  8.810640   \n",
       "7633  8.196780  8.434840  8.552320  8.631280  8.707390  8.765640  8.804040   \n",
       "7634  8.193170  8.303130  8.462500  8.576230  8.629220  8.689500  8.740070   \n",
       "7635       NaN       NaN       NaN       NaN       NaN       NaN       NaN   \n",
       "\n",
       "      ...       15y       16y       17y       18y       19y       20y  \\\n",
       "0     ...  0.832237  0.844088  0.855402  0.866058  0.875499  0.883368   \n",
       "1     ...  0.778155  0.789119  0.799571  0.809517  0.818363  0.825697   \n",
       "2     ...  0.817662  0.830707  0.843072  0.854822  0.865210  0.873922   \n",
       "3     ...  0.953020  0.967948  0.981887  0.994876  1.006450  1.016070   \n",
       "4     ...  0.937401  0.951133  0.964234  0.976642  0.987715  0.997055   \n",
       "...   ...       ...       ...       ...       ...       ...       ...   \n",
       "7631  ...  8.847970  8.848360  8.848700  8.848990  8.849790  8.850010   \n",
       "7632  ...  8.830640  8.830250  8.829890  8.829590  8.829850  8.829590   \n",
       "7633  ...  8.813640  8.812760  8.812000  8.811350  8.811320  8.810800   \n",
       "7634  ...  8.734410  8.732040  8.729980  8.728190  8.727170  8.725780   \n",
       "7635  ...       NaN       NaN       NaN       NaN       NaN       NaN   \n",
       "\n",
       "           25y       30y       40y       50y  \n",
       "0     0.899930  0.906719  0.869219  0.786719  \n",
       "1     0.840490  0.846255  0.808755  0.726255  \n",
       "2     0.894239  0.904266  0.866766  0.784266  \n",
       "3     1.040560  1.054670  1.017170  0.934674  \n",
       "4     1.019550  1.032200  0.994699  0.912199  \n",
       "...        ...       ...       ...       ...  \n",
       "7631  8.851140  8.851800  8.852570  8.852820  \n",
       "7632  8.829060  8.828770  8.828590  8.828470  \n",
       "7633  8.809330  8.808490  8.807780  8.807450  \n",
       "7634  8.721200  8.718550  8.716060  8.715010  \n",
       "7635       NaN       NaN       NaN       NaN  \n",
       "\n",
       "[7636 rows x 27 columns]"
      ]
     },
     "execution_count": 9,
     "metadata": {},
     "output_type": "execute_result"
    }
   ],
   "source": [
    "swaps_df"
   ]
  },
  {
   "cell_type": "code",
   "execution_count": 10,
   "metadata": {},
   "outputs": [],
   "source": [
    "df = swaps_df.head(90).set_index('Date')"
   ]
  },
  {
   "cell_type": "code",
   "execution_count": 11,
   "metadata": {},
   "outputs": [],
   "source": [
    "df = df.diff().dropna()"
   ]
  },
  {
   "cell_type": "code",
   "execution_count": 12,
   "metadata": {},
   "outputs": [],
   "source": [
    "df = df.reset_index(drop=True)"
   ]
  },
  {
   "cell_type": "code",
   "execution_count": 13,
   "metadata": {},
   "outputs": [],
   "source": [
    "pc = pca(n_components=4)"
   ]
  },
  {
   "cell_type": "code",
   "execution_count": 14,
   "metadata": {},
   "outputs": [
    {
     "data": {
      "text/plain": [
       "PCA(copy=True, iterated_power='auto', n_components=4, random_state=None,\n",
       "    svd_solver='auto', tol=0.0, whiten=False)"
      ]
     },
     "execution_count": 14,
     "metadata": {},
     "output_type": "execute_result"
    }
   ],
   "source": [
    "pc.fit(df)"
   ]
  },
  {
   "cell_type": "code",
   "execution_count": 15,
   "metadata": {},
   "outputs": [
    {
     "data": {
      "text/plain": [
       "array([[-0.04472288, -0.06720927, -0.07665984, -0.09537384, -0.11461962,\n",
       "        -0.13910641, -0.15573491, -0.17202901, -0.18549676, -0.19551897,\n",
       "        -0.20390435, -0.210366  , -0.21545968, -0.21958385, -0.22281419,\n",
       "        -0.22533429, -0.22729844, -0.22879819, -0.22988655, -0.23070346,\n",
       "        -0.23137802, -0.23198433, -0.23445943, -0.23563733, -0.23504725,\n",
       "        -0.23550814],\n",
       "       [ 0.62161951,  0.50191119,  0.39273857,  0.27942643,  0.20382706,\n",
       "         0.13665232,  0.0882258 ,  0.06005389,  0.03732565,  0.01820325,\n",
       "         0.00215007, -0.01073279, -0.02164457, -0.03078829, -0.03818069,\n",
       "        -0.0446555 , -0.05033181, -0.05526334, -0.0595037 , -0.06319307,\n",
       "        -0.06626395, -0.06910799, -0.07993686, -0.08651235, -0.08664147,\n",
       "        -0.08579116],\n",
       "       [ 0.45560913,  0.12565017, -0.07027348, -0.21591118, -0.2769345 ,\n",
       "        -0.3001803 , -0.3084346 , -0.2803163 , -0.23885378, -0.19593904,\n",
       "        -0.15669793, -0.11747558, -0.07909893, -0.04259015, -0.00910963,\n",
       "         0.02022949,  0.04596088,  0.06846948,  0.08768812,  0.1041781 ,\n",
       "         0.1184549 ,  0.13083217,  0.18348144,  0.22452401,  0.2228386 ,\n",
       "         0.22799262],\n",
       "       [-0.43152041,  0.07868953,  0.34203503,  0.35992527,  0.25790779,\n",
       "         0.12199185,  0.0072725 , -0.1093661 , -0.17499517, -0.2120238 ,\n",
       "        -0.22667303, -0.22345576, -0.20165585, -0.16588333, -0.12737658,\n",
       "        -0.08992367, -0.05599604, -0.02433546,  0.00534682,  0.03184781,\n",
       "         0.05498518,  0.075327  ,  0.15588417,  0.22178175,  0.24055843,\n",
       "         0.2311799 ]])"
      ]
     },
     "execution_count": 15,
     "metadata": {},
     "output_type": "execute_result"
    }
   ],
   "source": [
    "pc.components_"
   ]
  },
  {
   "cell_type": "code",
   "execution_count": 16,
   "metadata": {},
   "outputs": [
    {
     "data": {
      "text/plain": [
       "array([1., 1., 1., 1.])"
      ]
     },
     "execution_count": 16,
     "metadata": {},
     "output_type": "execute_result"
    }
   ],
   "source": [
    "np.linalg.norm(pc.components_, axis=1)"
   ]
  },
  {
   "cell_type": "code",
   "execution_count": 17,
   "metadata": {},
   "outputs": [
    {
     "data": {
      "text/plain": [
       "array([0.12760124, 0.00596048, 0.00286812, 0.00051988])"
      ]
     },
     "execution_count": 17,
     "metadata": {},
     "output_type": "execute_result"
    }
   ],
   "source": [
    "pc.explained_variance_"
   ]
  },
  {
   "cell_type": "code",
   "execution_count": 18,
   "metadata": {},
   "outputs": [],
   "source": [
    "spc = spca(n_components=3, random_state=0, alpha=0.05, ridge_alpha=0.001, tol=1e-04, max_iter=10000)"
   ]
  },
  {
   "cell_type": "code",
   "execution_count": 19,
   "metadata": {},
   "outputs": [
    {
     "data": {
      "text/plain": [
       "SparsePCA(U_init=None, V_init=None, alpha=0.05, max_iter=10000, method='lars',\n",
       "          n_components=3, n_jobs=None, normalize_components='deprecated',\n",
       "          random_state=0, ridge_alpha=0.001, tol=0.0001, verbose=False)"
      ]
     },
     "execution_count": 19,
     "metadata": {},
     "output_type": "execute_result"
    }
   ],
   "source": [
    "spc.fit(df)"
   ]
  },
  {
   "cell_type": "code",
   "execution_count": 20,
   "metadata": {},
   "outputs": [],
   "source": [
    "df1 = pd.DataFrame(np.transpose(spc.components_))"
   ]
  },
  {
   "cell_type": "code",
   "execution_count": 21,
   "metadata": {},
   "outputs": [
    {
     "data": {
      "text/plain": [
       "<matplotlib.axes._subplots.AxesSubplot at 0x159ed4c0da0>"
      ]
     },
     "execution_count": 21,
     "metadata": {},
     "output_type": "execute_result"
    },
    {
     "data": {
      "image/png": "[encoded data removed]",
      "text/plain": [
       "<Figure size 432x288 with 1 Axes>"
      ]
     },
     "metadata": {
      "needs_background": "light"
     },
     "output_type": "display_data"
    }
   ],
   "source": [
    "df1.plot()"
   ]
  },
  {
   "cell_type": "code",
   "execution_count": 178,
   "metadata": {},
   "outputs": [
    {
     "data": {
      "text/plain": [
       "array([[ 0.        ,  0.        ,  0.        ,  0.        ,  0.        ,\n",
       "         0.        , -0.01802092, -0.05129203, -0.08489207, -0.11446516,\n",
       "        -0.14031822, -0.16337852, -0.18418009, -0.20291916, -0.21927638,\n",
       "        -0.23329169, -0.24532624, -0.25562375, -0.26424309, -0.27153755,\n",
       "        -0.27778217, -0.28043372, -0.28474521, -0.28710618, -0.28633499,\n",
       "        -0.2869826 ],\n",
       "       [-0.74380318, -0.54223801, -0.34745176, -0.16760046, -0.06262682,\n",
       "         0.        ,  0.        ,  0.        ,  0.        ,  0.        ,\n",
       "         0.        ,  0.        ,  0.        ,  0.        ,  0.        ,\n",
       "         0.        ,  0.        ,  0.        ,  0.        ,  0.        ,\n",
       "         0.        ,  0.        ,  0.        ,  0.        ,  0.        ,\n",
       "         0.        ],\n",
       "       [ 0.        , -0.06245234, -0.14247654, -0.23834163, -0.31273062,\n",
       "        -0.38811215, -0.39404715, -0.36488323, -0.32599765, -0.28603344,\n",
       "        -0.24991071, -0.21448494, -0.18022056, -0.14789131, -0.11850634,\n",
       "        -0.09255707, -0.06965294, -0.0494909 , -0.03209509, -0.01704951,\n",
       "        -0.00409043,  0.        ,  0.        ,  0.        ,  0.        ,\n",
       "         0.        ],\n",
       "       [ 0.        ,  0.        ,  0.        ,  0.        ,  0.        ,\n",
       "         0.        ,  0.        ,  0.        ,  0.        ,  0.        ,\n",
       "         0.        ,  0.        ,  0.        ,  0.        ,  0.        ,\n",
       "         0.        ,  0.        ,  0.        ,  0.        ,  0.        ,\n",
       "         0.        ,  0.        ,  0.        ,  0.        ,  0.        ,\n",
       "         0.        ],\n",
       "       [ 0.        ,  0.        ,  0.        ,  0.        ,  0.        ,\n",
       "         0.        ,  0.        ,  0.        ,  0.        ,  0.        ,\n",
       "         0.        ,  0.        ,  0.        ,  0.        ,  0.        ,\n",
       "         0.        ,  0.        ,  0.        ,  0.        ,  0.        ,\n",
       "         0.        ,  0.        ,  0.        ,  0.        ,  0.        ,\n",
       "         0.        ],\n",
       "       [ 0.        ,  0.        ,  0.        ,  0.        ,  0.        ,\n",
       "         0.        ,  0.        ,  0.        ,  0.        ,  0.        ,\n",
       "         0.        ,  0.        ,  0.        ,  0.        ,  0.        ,\n",
       "         0.        ,  0.        ,  0.        ,  0.        ,  0.        ,\n",
       "         0.        ,  0.        ,  0.        ,  0.        ,  0.        ,\n",
       "         0.        ]])"
      ]
     },
     "execution_count": 178,
     "metadata": {},
     "output_type": "execute_result"
    }
   ],
   "source": [
    "spc.components_"
   ]
  },
  {
   "cell_type": "code",
   "execution_count": 89,
   "metadata": {},
   "outputs": [],
   "source": [
    "nd = np.array(df)"
   ]
  },
  {
   "cell_type": "code",
   "execution_count": 93,
   "metadata": {},
   "outputs": [
    {
     "data": {
      "text/plain": [
       "SparsePCA(U_init=None, V_init=None, alpha=1, max_iter=1000, method='lars',\n",
       "          n_components=4, n_jobs=None, normalize_components='deprecated',\n",
       "          random_state=0, ridge_alpha=0.1, tol=1e-08, verbose=False)"
      ]
     },
     "execution_count": 93,
     "metadata": {},
     "output_type": "execute_result"
    }
   ],
   "source": [
    "spc.fit(nd)"
   ]
  },
  {
   "cell_type": "code",
   "execution_count": 96,
   "metadata": {},
   "outputs": [
    {
     "data": {
      "text/plain": [
       "array([[0., 0., 0., 0., 0., 0., 0., 0., 0., 0., 0., 0., 0., 0., 0., 0.,\n",
       "        0., 0., 0., 0., 0., 0., 0., 0., 0., 0.],\n",
       "       [0., 0., 0., 0., 0., 0., 0., 0., 0., 0., 0., 0., 0., 0., 0., 0.,\n",
       "        0., 0., 0., 0., 0., 0., 0., 0., 0., 0.],\n",
       "       [0., 0., 0., 0., 0., 0., 0., 0., 0., 0., 0., 0., 0., 0., 0., 0.,\n",
       "        0., 0., 0., 0., 0., 0., 0., 0., 0., 0.],\n",
       "       [0., 0., 0., 0., 0., 0., 0., 0., 0., 0., 0., 0., 0., 0., 0., 0.,\n",
       "        0., 0., 0., 0., 0., 0., 0., 0., 0., 0.]])"
      ]
     },
     "execution_count": 96,
     "metadata": {},
     "output_type": "execute_result"
    }
   ],
   "source": [
    "spc.components_"
   ]
  },
  {
   "cell_type": "code",
   "execution_count": 22,
   "metadata": {},
   "outputs": [],
   "source": [
    "dle = dl(n_components=4)"
   ]
  },
  {
   "cell_type": "code",
   "execution_count": 23,
   "metadata": {},
   "outputs": [
    {
     "data": {
      "text/plain": [
       "DictionaryLearning(alpha=1, code_init=None, dict_init=None,\n",
       "                   fit_algorithm='lars', max_iter=1000, n_components=4,\n",
       "                   n_jobs=None, positive_code=False, positive_dict=False,\n",
       "                   random_state=None, split_sign=False, tol=1e-08,\n",
       "                   transform_algorithm='omp', transform_alpha=None,\n",
       "                   transform_max_iter=1000, transform_n_nonzero_coefs=None,\n",
       "                   verbose=False)"
      ]
     },
     "execution_count": 23,
     "metadata": {},
     "output_type": "execute_result"
    }
   ],
   "source": [
    "dle.fit(df)"
   ]
  },
  {
   "cell_type": "code",
   "execution_count": 24,
   "metadata": {},
   "outputs": [
    {
     "data": {
      "text/plain": [
       "array([[-0.02770761, -0.03331996, -0.04054334, -0.0557589 , -0.07559473,\n",
       "        -0.11589074, -0.12362556, -0.15611164, -0.18102442, -0.19785033,\n",
       "        -0.21007813, -0.21910857, -0.22545449, -0.23069101, -0.23413918,\n",
       "        -0.23577292, -0.23623444, -0.23619577, -0.23601928, -0.23592528,\n",
       "        -0.23595844, -0.23604802, -0.23584357, -0.23528536, -0.23528536,\n",
       "        -0.23528536],\n",
       "       [ 0.30347488,  0.09167995,  0.05138468, -0.17068521, -0.05175184,\n",
       "         0.09910419, -0.00870422, -0.37308315,  0.11727634,  0.21352117,\n",
       "         0.13418476,  0.40198122,  0.06126138,  0.37457538, -0.09798094,\n",
       "         0.0216515 , -0.15700567,  0.01001532,  0.16713595,  0.0475572 ,\n",
       "        -0.14506888, -0.12079064,  0.3183531 ,  0.33020806,  0.14711455,\n",
       "         0.01666572],\n",
       "       [ 0.18519441, -0.07507261,  0.26589363, -0.07312529, -0.06120379,\n",
       "         0.25835206, -0.3825267 , -0.20697568,  0.31241971,  0.31468182,\n",
       "         0.13805851,  0.14217894, -0.02484944,  0.12835176, -0.2022965 ,\n",
       "         0.04551139, -0.06697216,  0.07292991, -0.27325697, -0.07195396,\n",
       "         0.21159491, -0.28180592, -0.00149601,  0.26692461, -0.18137166,\n",
       "        -0.1019123 ],\n",
       "       [ 0.27842463, -0.00840582,  0.0865222 , -0.30863686, -0.08321891,\n",
       "         0.21300738, -0.17577725,  0.10572301, -0.02033082, -0.19137251,\n",
       "         0.02567837,  0.31722652, -0.03140221,  0.1423796 ,  0.09662065,\n",
       "         0.02462063, -0.24135833, -0.38288357, -0.08697979,  0.15031207,\n",
       "        -0.19298668,  0.19296884,  0.36201069,  0.04960776, -0.24429073,\n",
       "        -0.2303927 ]])"
      ]
     },
     "execution_count": 24,
     "metadata": {},
     "output_type": "execute_result"
    }
   ],
   "source": [
    "dle.components_"
   ]
  },
  {
   "cell_type": "code",
   "execution_count": 30,
   "metadata": {},
   "outputs": [],
   "source": [
    "df_r = pd.DataFrame(dle.fit_transform(df))"
   ]
  },
  {
   "cell_type": "code",
   "execution_count": 31,
   "metadata": {},
   "outputs": [
    {
     "data": {
      "text/plain": [
       "<matplotlib.axes._subplots.AxesSubplot at 0x159ed5ed630>"
      ]
     },
     "execution_count": 31,
     "metadata": {},
     "output_type": "execute_result"
    },
    {
     "data": {
      "image/png": "[encoded data removed]",
      "text/plain": [
       "<Figure size 432x288 with 1 Axes>"
      ]
     },
     "metadata": {
      "needs_background": "light"
     },
     "output_type": "display_data"
    }
   ],
   "source": [
    "df_r.plot()"
   ]
  },
  {
   "cell_type": "code",
   "execution_count": 67,
   "metadata": {},
   "outputs": [
    {
     "data": {
      "text/plain": [
       "<matplotlib.axes._subplots.AxesSubplot at 0x159ed9b1860>"
      ]
     },
     "execution_count": 67,
     "metadata": {},
     "output_type": "execute_result"
    },
    {
     "data": {
      "image/png": "[encoded data removed]",
      "text/plain": [
       "<Figure size 432x288 with 1 Axes>"
      ]
     },
     "metadata": {
      "needs_background": "light"
     },
     "output_type": "display_data"
    }
   ],
   "source": [
    "df1 = pd.DataFrame()\n",
    "df1['2y'] = df['2y']\n",
    "df1['2y10y'] = df['2y'] - df['10y']\n",
    "# df1['2y30y'] = df['2y'] - df['30y']\n",
    "df1.plot()"
   ]
  },
  {
   "cell_type": "code",
   "execution_count": 68,
   "metadata": {},
   "outputs": [
    {
     "name": "stderr",
     "output_type": "stream",
     "text": [
      "C:\\Users\\swami\\.conda\\envs\\quant-projects\\lib\\site-packages\\sklearn\\linear_model\\_omp.py:673: RuntimeWarning:  Orthogonal matching pursuit ended prematurely due to linear\n",
      "dependence in the dictionary. The requested precision might not have been met.\n",
      "\n",
      "  return_n_iter=True)\n"
     ]
    }
   ],
   "source": [
    "ompe = omp().fit(df, df1)"
   ]
  },
  {
   "cell_type": "code",
   "execution_count": 71,
   "metadata": {},
   "outputs": [],
   "source": [
    "fic = fica(n_components=4)"
   ]
  },
  {
   "cell_type": "code",
   "execution_count": 72,
   "metadata": {},
   "outputs": [
    {
     "data": {
      "text/plain": [
       "array([[-7.71807640e-02,  1.96004267e-03,  6.46824072e-02,\n",
       "         6.25464449e-02],\n",
       "       [ 1.26092207e-01, -1.01912319e-01, -2.52648487e-02,\n",
       "        -6.51438259e-02],\n",
       "       [ 1.13029652e-01, -5.48009520e-02, -1.74438469e-01,\n",
       "         2.42947703e-02],\n",
       "       [-7.25217507e-02,  3.18181314e-02,  1.70737830e-02,\n",
       "         9.13642895e-02],\n",
       "       [-5.44058298e-02, -6.21713556e-03,  2.95594389e-02,\n",
       "         1.36717067e-02],\n",
       "       [-1.09542936e-01,  7.38308186e-02, -2.28406254e-02,\n",
       "         2.19618709e-01],\n",
       "       [-5.70237460e-02,  5.81803795e-02,  7.81305098e-02,\n",
       "        -2.45252927e-03],\n",
       "       [-1.46510370e-01, -1.35516250e-01, -9.45680041e-03,\n",
       "         1.05050723e-01],\n",
       "       [ 7.78451805e-02, -1.38765846e-01,  1.20271617e-01,\n",
       "         3.71367554e-02],\n",
       "       [ 9.19753027e-02, -8.39890782e-02, -5.86617298e-02,\n",
       "        -8.34414839e-02],\n",
       "       [ 8.25014417e-03, -8.04069856e-02, -5.55703335e-02,\n",
       "         1.32402686e-01],\n",
       "       [-1.65131059e-02, -5.24668440e-02, -6.81197746e-02,\n",
       "         8.96879647e-03],\n",
       "       [-1.23964227e-01,  1.16649168e-01,  1.43558471e-01,\n",
       "        -6.56290620e-03],\n",
       "       [-5.81815568e-02,  1.14443615e-02, -2.39514215e-02,\n",
       "         5.43828793e-02],\n",
       "       [-2.23172292e-01, -7.78521985e-02, -2.13524024e-01,\n",
       "        -6.32780065e-02],\n",
       "       [-2.27543976e-02,  1.09056571e-01, -6.77858211e-02,\n",
       "        -2.35729806e-01],\n",
       "       [-1.21589896e-01,  2.77170710e-02,  1.20929535e-01,\n",
       "        -6.12666194e-02],\n",
       "       [-2.94495869e-02, -1.46370218e-01,  1.26744844e-02,\n",
       "        -1.11874440e-02],\n",
       "       [-4.86137012e-02, -9.38438917e-03, -2.46838160e-01,\n",
       "        -1.46958950e-02],\n",
       "       [-2.73710810e-02,  1.63858606e-01, -2.21480849e-01,\n",
       "        -3.52146950e-02],\n",
       "       [-7.07154296e-02, -8.26600767e-02, -3.51911687e-01,\n",
       "        -2.04300606e-01],\n",
       "       [-2.37070606e-01, -5.54228626e-02,  2.25960361e-01,\n",
       "        -5.29112519e-02],\n",
       "       [ 5.00321232e-02,  1.45570253e-02,  3.31008263e-01,\n",
       "        -3.66648577e-01],\n",
       "       [-1.43485908e-03,  1.45027859e-01, -2.42976996e-01,\n",
       "        -1.15188272e-01],\n",
       "       [-1.29815595e-01, -3.82289551e-02,  1.48553612e-01,\n",
       "        -1.43702800e-01],\n",
       "       [ 7.78848520e-02, -1.52853772e-03,  6.73370726e-02,\n",
       "        -6.90196572e-03],\n",
       "       [ 1.65589835e-01,  7.47903115e-02,  1.29928131e-01,\n",
       "        -4.85005900e-02],\n",
       "       [-6.25405791e-02,  2.86495212e-02,  4.62765826e-01,\n",
       "        -1.57573103e-02],\n",
       "       [ 4.10557934e-01,  1.68906530e-01, -7.35692302e-03,\n",
       "         9.82546971e-02],\n",
       "       [ 6.79109524e-01, -9.98568950e-02,  2.77777903e-02,\n",
       "        -5.09387520e-02],\n",
       "       [ 6.24666724e-02,  7.81161125e-02, -6.28914541e-03,\n",
       "        -4.36142806e-02],\n",
       "       [-9.53514147e-03,  5.39433143e-03,  2.08869435e-02,\n",
       "         5.91208611e-01],\n",
       "       [-9.00791509e-02,  3.63614148e-01,  7.40096356e-02,\n",
       "        -9.50311908e-02],\n",
       "       [ 6.03588982e-02, -1.88623722e-02,  2.50055549e-02,\n",
       "         4.03529996e-01],\n",
       "       [ 9.50216996e-03,  4.52763783e-01,  5.38037300e-02,\n",
       "         1.86993890e-01],\n",
       "       [ 7.50380542e-02,  1.38240164e-01,  1.29033829e-01,\n",
       "        -3.99873067e-02],\n",
       "       [-8.82727382e-03,  6.96775106e-02,  5.48358578e-02,\n",
       "         4.08386940e-02],\n",
       "       [ 5.86755628e-03,  1.11104807e-01,  8.54730285e-03,\n",
       "        -1.12844690e-02],\n",
       "       [-1.36261207e-03,  1.99050517e-01, -1.08559558e-02,\n",
       "         2.07365681e-02],\n",
       "       [ 8.16281777e-02,  1.10690497e-01,  9.20147651e-03,\n",
       "        -5.39700674e-02],\n",
       "       [ 4.54548023e-02,  5.54261241e-02, -1.20908347e-02,\n",
       "        -1.75030179e-02],\n",
       "       [ 7.25930115e-03, -9.81076639e-02, -4.32364422e-03,\n",
       "        -1.50822940e-02],\n",
       "       [ 4.18618942e-02,  8.94801552e-03, -2.27648223e-02,\n",
       "        -3.66966573e-02],\n",
       "       [ 5.22680746e-03,  2.48069022e-02, -2.17340699e-02,\n",
       "        -2.73853075e-02],\n",
       "       [ 2.16733750e-02, -3.60799394e-02, -2.45234985e-02,\n",
       "         3.20439404e-03],\n",
       "       [-2.55845310e-02, -1.21965441e-01,  2.49343744e-02,\n",
       "         1.61357296e-02],\n",
       "       [ 1.63626531e-02, -1.36683436e-01,  1.17523593e-02,\n",
       "        -2.18296891e-03],\n",
       "       [ 6.83849814e-03,  6.96831614e-02,  9.68623715e-04,\n",
       "         4.23551637e-03],\n",
       "       [-1.62946541e-03,  8.75154472e-02, -5.32980711e-02,\n",
       "        -2.10863414e-02],\n",
       "       [ 5.03702105e-02, -5.96359227e-02, -1.22503101e-03,\n",
       "        -1.33036939e-02],\n",
       "       [-2.93105463e-02, -7.67731002e-02,  5.02211860e-02,\n",
       "         4.23741906e-04],\n",
       "       [-3.51145340e-02, -2.26010990e-01,  1.70114048e-02,\n",
       "         3.05311417e-02],\n",
       "       [ 5.69121403e-02, -1.14756979e-01, -6.52427720e-03,\n",
       "        -1.10526492e-02],\n",
       "       [-5.46171022e-02,  1.30072895e-01,  2.97170855e-03,\n",
       "         1.87394509e-02],\n",
       "       [-1.64860131e-02,  5.55043721e-02, -2.74597202e-02,\n",
       "         6.89895662e-03],\n",
       "       [-1.13983638e-02,  5.21928869e-02, -3.17596046e-02,\n",
       "        -1.34101404e-02],\n",
       "       [-4.64176812e-02, -1.28243697e-01, -8.57034213e-03,\n",
       "         2.38892406e-02],\n",
       "       [ 1.05974904e-03,  9.79670151e-02, -6.82935570e-02,\n",
       "        -4.12065281e-03],\n",
       "       [-3.86998774e-02,  5.61532396e-02, -7.61867042e-02,\n",
       "        -2.27926113e-02],\n",
       "       [ 4.66202346e-02, -6.44971581e-03, -2.31860785e-02,\n",
       "        -2.09369600e-02],\n",
       "       [ 2.92514378e-02, -1.84858622e-02,  1.31099691e-02,\n",
       "        -2.12920861e-02],\n",
       "       [-1.39372502e-02,  5.72622349e-02, -6.23629290e-02,\n",
       "        -4.10065840e-03],\n",
       "       [-4.87762412e-02, -5.80535381e-02,  6.26398189e-03,\n",
       "         1.92410785e-02],\n",
       "       [ 1.46241928e-02, -5.57533191e-02,  2.19023216e-02,\n",
       "         4.79067972e-03],\n",
       "       [-5.61709174e-03, -5.30886549e-02, -5.61726597e-02,\n",
       "        -7.34040136e-04],\n",
       "       [-1.16482069e-02, -1.46054581e-02, -3.28363073e-02,\n",
       "        -4.04486592e-02],\n",
       "       [-3.12326571e-02, -5.55118028e-02,  9.79226221e-03,\n",
       "         9.45782383e-03],\n",
       "       [ 9.75062220e-03, -5.46091329e-02, -6.24769848e-02,\n",
       "         5.83846893e-04],\n",
       "       [ 2.43998609e-02,  3.43847626e-03,  7.45129390e-03,\n",
       "        -5.70469132e-02],\n",
       "       [-3.11438756e-02, -1.59036765e-01, -7.99573403e-03,\n",
       "         1.01819116e-01],\n",
       "       [-1.93460263e-02, -1.93105397e-02,  4.69132161e-02,\n",
       "        -1.46207264e-02],\n",
       "       [-2.09676600e-02, -2.59224333e-02, -1.83023340e-02,\n",
       "        -3.00587984e-03],\n",
       "       [-2.17562153e-02,  6.28276281e-02, -1.34333633e-01,\n",
       "         9.69550959e-03],\n",
       "       [ 2.27102858e-02, -2.99452405e-02, -4.93418074e-02,\n",
       "        -9.94558709e-03],\n",
       "       [-5.03907691e-02, -2.58009410e-02,  2.10253084e-02,\n",
       "         9.08711367e-03],\n",
       "       [ 5.97138903e-03, -3.40249823e-02,  5.95729146e-02,\n",
       "         5.39014527e-02],\n",
       "       [-1.83262152e-02,  5.27813689e-02, -8.00727677e-03,\n",
       "         1.83015083e-02],\n",
       "       [-6.38371355e-03, -3.78978110e-02, -2.20006649e-02,\n",
       "        -1.35873138e-02],\n",
       "       [-2.08535282e-02,  7.61146117e-03, -2.85494146e-02,\n",
       "        -4.57973910e-02],\n",
       "       [ 2.23053839e-02, -9.89861158e-02,  4.77412372e-03,\n",
       "        -3.06937411e-02],\n",
       "       [-1.97839739e-02, -7.16031664e-02, -1.03905730e-02,\n",
       "        -1.48475065e-02],\n",
       "       [-3.68370801e-02,  5.99076087e-03, -2.13060876e-02,\n",
       "        -5.31242173e-02],\n",
       "       [-1.08473191e-02, -4.09295596e-02,  5.28160887e-02,\n",
       "        -1.41902117e-02],\n",
       "       [-1.35229621e-02, -2.63715337e-02, -5.71348368e-04,\n",
       "        -1.91405443e-02],\n",
       "       [-3.35864936e-04, -1.59547761e-01,  7.84201674e-02,\n",
       "         1.62947776e-02],\n",
       "       [-1.86094515e-02,  9.35280882e-02, -9.35712458e-02,\n",
       "        -5.15252951e-02],\n",
       "       [-2.46876512e-02, -1.63653106e-01,  1.26408039e-01,\n",
       "         1.10524345e-02],\n",
       "       [-6.12102274e-02,  1.99604243e-02, -7.38951143e-02,\n",
       "        -8.98414665e-03],\n",
       "       [ 2.17674591e-02, -1.04682246e-01, -4.04670395e-02,\n",
       "        -1.29348664e-02]])"
      ]
     },
     "execution_count": 72,
     "metadata": {},
     "output_type": "execute_result"
    }
   ],
   "source": [
    "fic.fit_transform(df)"
   ]
  },
  {
   "cell_type": "code",
   "execution_count": 77,
   "metadata": {},
   "outputs": [],
   "source": [
    "df2 = pd.DataFrame(fic.mixing_)"
   ]
  },
  {
   "cell_type": "code",
   "execution_count": 78,
   "metadata": {},
   "outputs": [
    {
     "data": {
      "text/plain": [
       "<matplotlib.axes._subplots.AxesSubplot at 0x159eda21048>"
      ]
     },
     "execution_count": 78,
     "metadata": {},
     "output_type": "execute_result"
    },
    {
     "data": {
      "image/png": "[encoded data removed]",
      "text/plain": [
       "<Figure size 432x288 with 1 Axes>"
      ]
     },
     "metadata": {
      "needs_background": "light"
     },
     "output_type": "display_data"
    }
   ],
   "source": [
    "df2.plot()"
   ]
  },
  {
   "cell_type": "code",
   "execution_count": null,
   "metadata": {},
   "outputs": [],
   "source": []
  }
 ],
 "metadata": {
  "kernelspec": {
   "display_name": "quant-projects",
   "language": "python",
   "name": "quant-projects"
  },
  "language_info": {
   "codemirror_mode": {
    "name": "ipython",
    "version": 3
   },
   "file_extension": ".py",
   "mimetype": "text/x-python",
   "name": "python",
   "nbconvert_exporter": "python",
   "pygments_lexer": "ipython3",
   "version": "3.6.10"
  }
 },
 "nbformat": 4,
 "nbformat_minor": 4
}
